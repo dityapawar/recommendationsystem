{
 "cells": [
  {
   "cell_type": "code",
   "execution_count": 1,
   "id": "f9f9f495",
   "metadata": {},
   "outputs": [],
   "source": [
    "# Data Source:\n",
    "# Amazon Customer Reviews Multiple datasets are available in the repository.\n",
    "# The Electronics dataset is being used for this example.\n",
    "# Amazon recently implemented a method \n",
    "# called item-to-item collaborative filtering, \n",
    "# which is designed for extending to huge amounts\n",
    "# of data and producing exceptional suggestions in actual time."
   ]
  },
  {
   "cell_type": "code",
   "execution_count": 2,
   "id": "5bbd0e4b",
   "metadata": {},
   "outputs": [],
   "source": [
    "# Description of the Dataset:\n",
    "# UserId: Each user has a unique id \n",
    "# ProductId: Each product has a unique id \n",
    "# Rating: Each user's rating of the relevant product \n",
    "#Timestamp: The time the rating was made \n",
    "#(ignoring this attribute since it does not effect the model)"
   ]
  },
  {
   "cell_type": "code",
   "execution_count": 3,
   "id": "b28ea464",
   "metadata": {},
   "outputs": [],
   "source": [
    "#Importing the needed libraries\n",
    "import numpy as np\n",
    "import pandas as pd\n",
    "import seaborn as sns\n",
    "import math\n",
    "import matplotlib.pyplot as plt\n",
    "from sklearn.model_selection import train_test_split\n",
    "from sklearn.metrics import mean_squared_error"
   ]
  },
  {
   "cell_type": "code",
   "execution_count": 4,
   "id": "50579f67",
   "metadata": {},
   "outputs": [],
   "source": [
    "#Reading the dataset\n",
    "data1=pd.read_excel(\"C:\\\\Users\\\\kashi\\\\OneDrive\\\\Desktop\\\\dataset2.xlsx\",names=['userId', 'productId','Rating','timestamp'])"
   ]
  },
  {
   "cell_type": "code",
   "execution_count": 5,
   "id": "4a18418b",
   "metadata": {},
   "outputs": [
    {
     "data": {
      "text/html": [
       "<div>\n",
       "<style scoped>\n",
       "    .dataframe tbody tr th:only-of-type {\n",
       "        vertical-align: middle;\n",
       "    }\n",
       "\n",
       "    .dataframe tbody tr th {\n",
       "        vertical-align: top;\n",
       "    }\n",
       "\n",
       "    .dataframe thead th {\n",
       "        text-align: right;\n",
       "    }\n",
       "</style>\n",
       "<table border=\"1\" class=\"dataframe\">\n",
       "  <thead>\n",
       "    <tr style=\"text-align: right;\">\n",
       "      <th></th>\n",
       "      <th>userId</th>\n",
       "      <th>productId</th>\n",
       "      <th>Rating</th>\n",
       "      <th>timestamp</th>\n",
       "    </tr>\n",
       "  </thead>\n",
       "  <tbody>\n",
       "    <tr>\n",
       "      <th>0</th>\n",
       "      <td>A2CX7LUOHB2NDG</td>\n",
       "      <td>321732944</td>\n",
       "      <td>5</td>\n",
       "      <td>1341100800</td>\n",
       "    </tr>\n",
       "    <tr>\n",
       "      <th>1</th>\n",
       "      <td>A2NWSAGRHCP8N5</td>\n",
       "      <td>439886341</td>\n",
       "      <td>1</td>\n",
       "      <td>1367193600</td>\n",
       "    </tr>\n",
       "    <tr>\n",
       "      <th>2</th>\n",
       "      <td>A2WNBOD3WNDNKT</td>\n",
       "      <td>439886341</td>\n",
       "      <td>3</td>\n",
       "      <td>1374451200</td>\n",
       "    </tr>\n",
       "    <tr>\n",
       "      <th>3</th>\n",
       "      <td>A1GI0U4ZRJA8WN</td>\n",
       "      <td>439886341</td>\n",
       "      <td>1</td>\n",
       "      <td>1334707200</td>\n",
       "    </tr>\n",
       "    <tr>\n",
       "      <th>4</th>\n",
       "      <td>A1QGNMC6O1VW39</td>\n",
       "      <td>511189877</td>\n",
       "      <td>5</td>\n",
       "      <td>1397433600</td>\n",
       "    </tr>\n",
       "  </tbody>\n",
       "</table>\n",
       "</div>"
      ],
      "text/plain": [
       "           userId  productId  Rating   timestamp\n",
       "0  A2CX7LUOHB2NDG  321732944       5  1341100800\n",
       "1  A2NWSAGRHCP8N5  439886341       1  1367193600\n",
       "2  A2WNBOD3WNDNKT  439886341       3  1374451200\n",
       "3  A1GI0U4ZRJA8WN  439886341       1  1334707200\n",
       "4  A1QGNMC6O1VW39  511189877       5  1397433600"
      ]
     },
     "execution_count": 5,
     "metadata": {},
     "output_type": "execute_result"
    }
   ],
   "source": [
    "#head of the dataset\n",
    "data1.head()"
   ]
  },
  {
   "cell_type": "code",
   "execution_count": 6,
   "id": "b630ff37",
   "metadata": {},
   "outputs": [
    {
     "data": {
      "text/plain": [
       "(1048575, 4)"
      ]
     },
     "execution_count": 6,
     "metadata": {},
     "output_type": "execute_result"
    }
   ],
   "source": [
    "#Finding the number of rows and columns in the dataset\n",
    "data1.shape"
   ]
  },
  {
   "cell_type": "code",
   "execution_count": 7,
   "id": "8a866eba",
   "metadata": {},
   "outputs": [
    {
     "data": {
      "text/plain": [
       "userId       object\n",
       "productId    object\n",
       "Rating        int64\n",
       "timestamp     int64\n",
       "dtype: object"
      ]
     },
     "execution_count": 7,
     "metadata": {},
     "output_type": "execute_result"
    }
   ],
   "source": [
    "#Checking the datatypes of all attributes\n",
    "data1.dtypes"
   ]
  },
  {
   "cell_type": "code",
   "execution_count": 8,
   "id": "8088f763",
   "metadata": {},
   "outputs": [
    {
     "name": "stdout",
     "output_type": "stream",
     "text": [
      "<class 'pandas.core.frame.DataFrame'>\n",
      "RangeIndex: 1048575 entries, 0 to 1048574\n",
      "Data columns (total 4 columns):\n",
      " #   Column     Non-Null Count    Dtype \n",
      "---  ------     --------------    ----- \n",
      " 0   userId     1048575 non-null  object\n",
      " 1   productId  1048575 non-null  object\n",
      " 2   Rating     1048575 non-null  int64 \n",
      " 3   timestamp  1048575 non-null  int64 \n",
      "dtypes: int64(2), object(2)\n",
      "memory usage: 32.0+ MB\n"
     ]
    }
   ],
   "source": [
    "#more information regarding the dataset\n",
    "data1.info()"
   ]
  },
  {
   "cell_type": "code",
   "execution_count": 9,
   "id": "7b7bf5fe",
   "metadata": {},
   "outputs": [
    {
     "data": {
      "text/plain": [
       "<AxesSubplot:xlabel='Rating', ylabel='count'>"
      ]
     },
     "execution_count": 9,
     "metadata": {},
     "output_type": "execute_result"
    },
    {
     "data": {
      "image/png": "[encoded data removed]",
      "text/plain": [
       "<Figure size 432x288 with 1 Axes>"
      ]
     },
     "metadata": {
      "needs_background": "light"
     },
     "output_type": "display_data"
    }
   ],
   "source": [
    "#Checking the frequency of each ratings\n",
    "sns.countplot(data=data1, x='Rating')"
   ]
  },
  {
   "cell_type": "code",
   "execution_count": 10,
   "id": "0160d1cf",
   "metadata": {},
   "outputs": [
    {
     "name": "stdout",
     "output_type": "stream",
     "text": [
      "Minimum rating is: 1\n",
      "Maximum rating is: 5\n"
     ]
    }
   ],
   "source": [
    "#Checking the minimum and maximum rating in the dataset\n",
    "print('Minimum rating is: %d' %(data1.Rating.min()))\n",
    "print('Maximum rating is: %d' %(data1.Rating.max()))"
   ]
  },
  {
   "cell_type": "code",
   "execution_count": 11,
   "id": "0e4373dc",
   "metadata": {},
   "outputs": [
    {
     "data": {
      "text/plain": [
       "userId       0\n",
       "productId    0\n",
       "Rating       0\n",
       "timestamp    0\n",
       "dtype: int64"
      ]
     },
     "execution_count": 11,
     "metadata": {},
     "output_type": "execute_result"
    }
   ],
   "source": [
    "#Checking the missing values(na)\n",
    "data1.isna().sum()"
   ]
  },
  {
   "cell_type": "code",
   "execution_count": 12,
   "id": "0a21dd50",
   "metadata": {},
   "outputs": [
    {
     "name": "stdout",
     "output_type": "stream",
     "text": [
      "Total no. of Ratings: 1048575\n",
      "Total no. of Users: 786329\n"
     ]
    }
   ],
   "source": [
    "print(\"Total no. of Ratings:\",data1.shape[0])\n",
    "print(\"Total no. of Users:\",len(np.unique(data1.userId)))\n",
    "#print(\"Total no. of Products:\",len(np.unique(data1.productId)))"
   ]
  },
  {
   "cell_type": "code",
   "execution_count": 13,
   "id": "e0c19704",
   "metadata": {},
   "outputs": [],
   "source": [
    "#Dropping the timestamp attribute\n",
    "data1.drop(['timestamp'], axis=1,inplace=True)"
   ]
  },
  {
   "cell_type": "code",
   "execution_count": 14,
   "id": "839fac61",
   "metadata": {},
   "outputs": [],
   "source": [
    "#finding the maximum ratings given by a user for a particular product\n",
    "max_ratings=data1.groupby(['userId','productId'])['Rating'].max().sort_values(ascending=False)"
   ]
  },
  {
   "cell_type": "code",
   "execution_count": 15,
   "id": "f2deed91",
   "metadata": {},
   "outputs": [
    {
     "data": {
      "text/plain": [
       "userId                 productId \n",
       "A00037441I8XOQJSUWCAG  B000I3C624    5\n",
       "A2QZ36LCF7XX0C         B0000AZ67Y    5\n",
       "A2QZ69NJD4CHVA         B0002KR74A    5\n",
       "AFSMQCSZEU71O          B00004TWM6    5\n",
       "A2QZ6S2PLAGED6         B0002BG2PO    5\n",
       "Name: Rating, dtype: int64"
      ]
     },
     "execution_count": 15,
     "metadata": {},
     "output_type": "execute_result"
    }
   ],
   "source": [
    "max_ratings.head()"
   ]
  },
  {
   "cell_type": "code",
   "execution_count": 16,
   "id": "57aaab64",
   "metadata": {},
   "outputs": [],
   "source": [
    "min_ratings=data1.groupby(['userId','productId'])['Rating'].min().sort_values(ascending=False) "
   ]
  },
  {
   "cell_type": "code",
   "execution_count": 17,
   "id": "c75e57a1",
   "metadata": {},
   "outputs": [
    {
     "data": {
      "text/plain": [
       "userId                 productId \n",
       "A00037441I8XOQJSUWCAG  B000I3C624    5\n",
       "A2QZ36LCF7XX0C         B0000AZ67Y    5\n",
       "A2QZ69NJD4CHVA         B0002KR74A    5\n",
       "AFSMQCSZEU71O          B00004TWM6    5\n",
       "A2QZ6S2PLAGED6         B0002BG2PO    5\n",
       "Name: Rating, dtype: int64"
      ]
     },
     "execution_count": 17,
     "metadata": {},
     "output_type": "execute_result"
    }
   ],
   "source": [
    "min_ratings.head()"
   ]
  },
  {
   "cell_type": "code",
   "execution_count": 18,
   "id": "ed77b5cd",
   "metadata": {},
   "outputs": [],
   "source": [
    "#for consistency remove duplicates if there is any\n",
    "data1.drop_duplicates(inplace=True)"
   ]
  },
  {
   "cell_type": "code",
   "execution_count": 19,
   "id": "979aeae9",
   "metadata": {},
   "outputs": [
    {
     "data": {
      "text/plain": [
       "userId\n",
       "A5JLAU2ARJ0BO     412\n",
       "A231WM2Z2JL0U3    249\n",
       "A25HBO5V8S8SEA    164\n",
       "A6FIAB28IS79      146\n",
       "AT6CZDCP4TRGA     128\n",
       "Name: Rating, dtype: int64"
      ]
     },
     "execution_count": 19,
     "metadata": {},
     "output_type": "execute_result"
    }
   ],
   "source": [
    "#Analysis of the total number of product ratings contributed by a certain user \n",
    "no_of_rated_products_per_user = data1.groupby(by='userId')['Rating'].count().sort_values(ascending=False)\n",
    "no_of_rated_products_per_user.head()"
   ]
  },
  {
   "cell_type": "code",
   "execution_count": 20,
   "id": "f9525875",
   "metadata": {},
   "outputs": [
    {
     "data": {
      "text/plain": [
       "count    786329\n",
       "mean          1\n",
       "std           1\n",
       "min           1\n",
       "25%           1\n",
       "50%           1\n",
       "75%           1\n",
       "max         412\n",
       "Name: Rating, dtype: int32"
      ]
     },
     "execution_count": 20,
     "metadata": {},
     "output_type": "execute_result"
    }
   ],
   "source": [
    "no_of_rated_products_per_user.describe().astype(int).T"
   ]
  },
  {
   "cell_type": "code",
   "execution_count": 21,
   "id": "996238a3",
   "metadata": {},
   "outputs": [
    {
     "data": {
      "text/plain": [
       "<AxesSubplot:>"
      ]
     },
     "execution_count": 21,
     "metadata": {},
     "output_type": "execute_result"
    },
    {
     "data": {
      "image/png": "[encoded data removed]",
      "text/plain": [
       "<Figure size 432x288 with 1 Axes>"
      ]
     },
     "metadata": {
      "needs_background": "light"
     },
     "output_type": "display_data"
    }
   ],
   "source": [
    "#Boxplot shows that most users rate only a handful of items,\n",
    "#whereas a tiny minority rate a much larger number of objects (shown by outliers).\n",
    "sns.boxplot(data=no_of_rated_products_per_user)"
   ]
  },
  {
   "cell_type": "code",
   "execution_count": 22,
   "id": "370cf26d",
   "metadata": {},
   "outputs": [],
   "source": [
    "#Let's take a look at the quantiles to see where the bulk of the ratings fall.\n",
    "quantiles = no_of_rated_products_per_user.quantile(np.arange(0,1.01,0.01), interpolation='higher')"
   ]
  },
  {
   "cell_type": "code",
   "execution_count": 23,
   "id": "1c06a856",
   "metadata": {},
   "outputs": [
    {
     "data": {
      "image/png": "[encoded data removed]",
      "text/plain": [
       "<Figure size 720x720 with 1 Axes>"
      ]
     },
     "metadata": {
      "needs_background": "light"
     },
     "output_type": "display_data"
    }
   ],
   "source": [
    "#Basically, the outliers that we observed \n",
    "#previously are represented here in the peak \n",
    "#of the distribution, as shown by the fact \n",
    "#that all of the ratings are grouped together at the very top of the quantile.\n",
    "plt.figure(figsize=(10,10))\n",
    "plt.title(\"Quantiles and their Values\")\n",
    "quantiles.plot()\n",
    "# quantiles with 0.05 difference\n",
    "plt.scatter(x=quantiles.index[::5], y=quantiles.values[::5], c='red', label=\"quantiles with 0.05 intervals\")\n",
    "# quantiles with 0.25 difference\n",
    "plt.scatter(x=quantiles.index[::25], y=quantiles.values[::25], c='green', label = \"quantiles with 0.25 intervals\")\n",
    "plt.ylabel('# ratings by user')\n",
    "plt.xlabel('Value at the quantile')\n",
    "plt.legend(loc='best')\n",
    "plt.show()"
   ]
  },
  {
   "cell_type": "code",
   "execution_count": 24,
   "id": "2f43af23",
   "metadata": {},
   "outputs": [
    {
     "name": "stdout",
     "output_type": "stream",
     "text": [
      "number of rated product more than 50 per user : 38\n",
      "\n"
     ]
    }
   ],
   "source": [
    "print('number of rated product more than 50 per user : {}\\n'.format(sum(no_of_rated_products_per_user >= 50)) )"
   ]
  },
  {
   "cell_type": "code",
   "execution_count": 25,
   "id": "aa9945a0",
   "metadata": {},
   "outputs": [],
   "source": [
    "# Obtaining the new dataframe that \n",
    "#includes people who have rated this post a total of fifty times or more\n",
    "new_df=data1.groupby(\"userId\").filter(lambda x:x['Rating'].count() >=50)"
   ]
  },
  {
   "cell_type": "code",
   "execution_count": 26,
   "id": "1cd1a4a3",
   "metadata": {},
   "outputs": [
    {
     "data": {
      "image/png": "[encoded data removed]",
      "text/plain": [
       "<Figure size 1152x288 with 1 Axes>"
      ]
     },
     "metadata": {
      "needs_background": "light"
     },
     "output_type": "display_data"
    }
   ],
   "source": [
    "# The bulk of items have extremely few ratings,\n",
    "# which contributes to the overall unbalanced rating system for products.\n",
    "no_of_ratings_per_product = new_df.groupby(by='productId')['Rating'].count().sort_values(ascending=False)\n",
    "\n",
    "fig = plt.figure(figsize=(16,4))\n",
    "ax = plt.gca()\n",
    "plt.plot(no_of_ratings_per_product.values)\n",
    "plt.title('# RATINGS per Product')\n",
    "plt.xlabel('Product')\n",
    "plt.ylabel('# ratings per product')\n",
    "ax.set_xticklabels([])\n",
    "\n",
    "plt.show()"
   ]
  },
  {
   "cell_type": "code",
   "execution_count": 27,
   "id": "c9fb1376",
   "metadata": {},
   "outputs": [],
   "source": [
    "#Boxplot demonstrates that just a handful of our items have\n",
    "#received a high number of ratings, while the vast majority have received relatively low ratings.\n",
    "#sns.boxplot(data=no_of_ratings_per_product);"
   ]
  },
  {
   "cell_type": "code",
   "execution_count": 28,
   "id": "e16ca7c1",
   "metadata": {},
   "outputs": [],
   "source": [
    "#First, let's take a look at the \n",
    "#quantile view to figure out where the majority of the ratings fall.\n",
    "quantiles = no_of_ratings_per_product.quantile(np.arange(0,1.01,0.01), interpolation='higher')"
   ]
  },
  {
   "cell_type": "code",
   "execution_count": 29,
   "id": "be843290",
   "metadata": {},
   "outputs": [
    {
     "data": {
      "image/png": "[encoded data removed]",
      "text/plain": [
       "<Figure size 720x720 with 1 Axes>"
      ]
     },
     "metadata": {
      "needs_background": "light"
     },
     "output_type": "display_data"
    }
   ],
   "source": [
    "#This confirms our conclusion above in the boxplot, \n",
    "#where we can see that all of the ratings are grouped at the upper end of the quantile.\n",
    "plt.figure(figsize=(10,10))\n",
    "plt.title(\"Quantiles and their Values\")\n",
    "quantiles.plot()\n",
    "# quantiles with 0.05 difference\n",
    "plt.scatter(x=quantiles.index[::5], y=quantiles.values[::5], c='red', label=\"quantiles with 0.05 intervals\")\n",
    "# quantiles with 0.25 difference\n",
    "plt.scatter(x=quantiles.index[::25], y=quantiles.values[::25], c='green', label = \"quantiles with 0.25 intervals\")\n",
    "plt.ylabel('# ratings by user')\n",
    "plt.xlabel('Value at the quantile')\n",
    "plt.legend(loc='best')\n",
    "plt.show()"
   ]
  },
  {
   "cell_type": "code",
   "execution_count": 30,
   "id": "736cac62",
   "metadata": {},
   "outputs": [
    {
     "data": {
      "text/plain": [
       "productId\n",
       "1400532655    1.0\n",
       "1400599997    1.0\n",
       "9043413585    3.0\n",
       "998376234X    1.0\n",
       "B000000O48    5.0\n",
       "Name: Rating, dtype: float64"
      ]
     },
     "execution_count": 30,
     "metadata": {},
     "output_type": "execute_result"
    }
   ],
   "source": [
    "#Rating of the product, on average, based on feedback from consumers\n",
    "new_df.groupby('productId')['Rating'].mean().head()"
   ]
  },
  {
   "cell_type": "code",
   "execution_count": 31,
   "id": "9db1430d",
   "metadata": {},
   "outputs": [
    {
     "data": {
      "text/plain": [
       "productId\n",
       "B0009VNE0S    5.0\n",
       "B0002ZA7I8    5.0\n",
       "B00008VFCS    5.0\n",
       "B000EXS1BS    5.0\n",
       "B00008VF7U    5.0\n",
       "Name: Rating, dtype: float64"
      ]
     },
     "execution_count": 31,
     "metadata": {},
     "output_type": "execute_result"
    }
   ],
   "source": [
    "new_df.groupby('productId')['Rating'].mean().sort_values(ascending=False).head()"
   ]
  },
  {
   "cell_type": "code",
   "execution_count": 32,
   "id": "af5926ca",
   "metadata": {},
   "outputs": [
    {
     "data": {
      "text/plain": [
       "productId\n",
       "B00004SB92    7\n",
       "B00008OE6I    5\n",
       "B000BKJZ9Q    5\n",
       "B00007KDVI    5\n",
       "B00005LEN4    5\n",
       "Name: Rating, dtype: int64"
      ]
     },
     "execution_count": 32,
     "metadata": {},
     "output_type": "execute_result"
    }
   ],
   "source": [
    "#Complete number of ratings received by product\n",
    "new_df.groupby('productId')['Rating'].count().sort_values(ascending=False).head()"
   ]
  },
  {
   "cell_type": "code",
   "execution_count": 33,
   "id": "879039a0",
   "metadata": {},
   "outputs": [],
   "source": [
    "ratings_mean_count = pd.DataFrame(new_df.groupby('productId')['Rating'].mean())"
   ]
  },
  {
   "cell_type": "code",
   "execution_count": 34,
   "id": "587a8806",
   "metadata": {},
   "outputs": [],
   "source": [
    "ratings_mean_count['rating_counts'] = pd.DataFrame(new_df.groupby('productId')['Rating'].count())"
   ]
  },
  {
   "cell_type": "code",
   "execution_count": 35,
   "id": "8c80589a",
   "metadata": {},
   "outputs": [
    {
     "data": {
      "text/html": [
       "<div>\n",
       "<style scoped>\n",
       "    .dataframe tbody tr th:only-of-type {\n",
       "        vertical-align: middle;\n",
       "    }\n",
       "\n",
       "    .dataframe tbody tr th {\n",
       "        vertical-align: top;\n",
       "    }\n",
       "\n",
       "    .dataframe thead th {\n",
       "        text-align: right;\n",
       "    }\n",
       "</style>\n",
       "<table border=\"1\" class=\"dataframe\">\n",
       "  <thead>\n",
       "    <tr style=\"text-align: right;\">\n",
       "      <th></th>\n",
       "      <th>Rating</th>\n",
       "      <th>rating_counts</th>\n",
       "    </tr>\n",
       "    <tr>\n",
       "      <th>productId</th>\n",
       "      <th></th>\n",
       "      <th></th>\n",
       "    </tr>\n",
       "  </thead>\n",
       "  <tbody>\n",
       "    <tr>\n",
       "      <th>1400532655</th>\n",
       "      <td>1.0</td>\n",
       "      <td>1</td>\n",
       "    </tr>\n",
       "    <tr>\n",
       "      <th>1400599997</th>\n",
       "      <td>1.0</td>\n",
       "      <td>1</td>\n",
       "    </tr>\n",
       "    <tr>\n",
       "      <th>9043413585</th>\n",
       "      <td>3.0</td>\n",
       "      <td>1</td>\n",
       "    </tr>\n",
       "    <tr>\n",
       "      <th>998376234X</th>\n",
       "      <td>1.0</td>\n",
       "      <td>1</td>\n",
       "    </tr>\n",
       "    <tr>\n",
       "      <th>B000000O48</th>\n",
       "      <td>5.0</td>\n",
       "      <td>1</td>\n",
       "    </tr>\n",
       "  </tbody>\n",
       "</table>\n",
       "</div>"
      ],
      "text/plain": [
       "            Rating  rating_counts\n",
       "productId                        \n",
       "1400532655     1.0              1\n",
       "1400599997     1.0              1\n",
       "9043413585     3.0              1\n",
       "998376234X     1.0              1\n",
       "B000000O48     5.0              1"
      ]
     },
     "execution_count": 35,
     "metadata": {},
     "output_type": "execute_result"
    }
   ],
   "source": [
    "#As can be seen in the table below,\n",
    "#high-rated products receive fewer evaluations from customers.\n",
    "ratings_mean_count.head()"
   ]
  },
  {
   "cell_type": "code",
   "execution_count": 36,
   "id": "136a3156",
   "metadata": {},
   "outputs": [
    {
     "data": {
      "text/plain": [
       "7"
      ]
     },
     "execution_count": 36,
     "metadata": {},
     "output_type": "execute_result"
    }
   ],
   "source": [
    "#The highest possible number of stars that may be awarded to a product\n",
    "ratings_mean_count['rating_counts'].max()"
   ]
  },
  {
   "cell_type": "code",
   "execution_count": 37,
   "id": "9bc5efe0",
   "metadata": {},
   "outputs": [
    {
     "data": {
      "text/plain": [
       "<AxesSubplot:>"
      ]
     },
     "execution_count": 37,
     "metadata": {},
     "output_type": "execute_result"
    },
    {
     "data": {
      "image/png": "[encoded data removed]",
      "text/plain": [
       "<Figure size 576x432 with 1 Axes>"
      ]
     },
     "metadata": {
      "needs_background": "light"
     },
     "output_type": "display_data"
    }
   ],
   "source": [
    "#The vast majority of the goods have only earned one\n",
    "#rating, and the distribution is heavily weighted to the right.\n",
    "plt.figure(figsize=(8,6))\n",
    "#plt.rcParams['patch.force_edgecolor'] = True\n",
    "ratings_mean_count['rating_counts'].hist(bins=100)"
   ]
  },
  {
   "cell_type": "code",
   "execution_count": 38,
   "id": "06c39e23",
   "metadata": {},
   "outputs": [
    {
     "data": {
      "text/plain": [
       "<AxesSubplot:>"
      ]
     },
     "execution_count": 38,
     "metadata": {},
     "output_type": "execute_result"
    },
    {
     "data": {
      "image/png": "[encoded data removed]",
      "text/plain": [
       "<Figure size 576x432 with 1 Axes>"
      ]
     },
     "metadata": {
      "needs_background": "light"
     },
     "output_type": "display_data"
    }
   ],
   "source": [
    "#The ratings have a distribution that is tilted to the left, as seen by us.\n",
    "#Clusters may be found at each of the points 1,2,3,4,5 \n",
    "#since this is where the majority of the means are located.\n",
    "plt.figure(figsize=(8,6))\n",
    "plt.rcParams['patch.force_edgecolor'] = True\n",
    "ratings_mean_count['Rating'].hist(bins=100)"
   ]
  },
  {
   "cell_type": "code",
   "execution_count": 39,
   "id": "f6bbc9d5",
   "metadata": {},
   "outputs": [
    {
     "data": {
      "text/plain": [
       "<seaborn.axisgrid.JointGrid at 0x12461e8a160>"
      ]
     },
     "execution_count": 39,
     "metadata": {},
     "output_type": "execute_result"
    },
    {
     "data": {
      "text/plain": [
       "<Figure size 576x432 with 0 Axes>"
      ]
     },
     "metadata": {},
     "output_type": "display_data"
    },
    {
     "data": {
      "image/png": "[encoded data removed]",
      "text/plain": [
       "<Figure size 432x432 with 3 Axes>"
      ]
     },
     "metadata": {
      "needs_background": "light"
     },
     "output_type": "display_data"
    }
   ],
   "source": [
    "#According to the joint plot shown below, \n",
    "#it appears that popular products with higher ratings tend to be rated more frequently. \n",
    "#To make people more engaged (bottom of the chart),\n",
    "#we can start by recommending them based on popularity based system and then \n",
    "#gradually graduate them to collaborative system once we have sufficient\n",
    "#number of data points to giver personlized recommendation.\n",
    "plt.figure(figsize=(8,6))\n",
    "plt.rcParams['patch.force_edgecolor'] = True\n",
    "sns.jointplot(x='Rating', y='rating_counts', data=ratings_mean_count, alpha=0.4)"
   ]
  },
  {
   "cell_type": "code",
   "execution_count": 40,
   "id": "ccf00c17",
   "metadata": {},
   "outputs": [
    {
     "data": {
      "image/png": "[encoded data removed]",
      "text/plain": [
       "<Figure size 432x288 with 2 Axes>"
      ]
     },
     "metadata": {
      "needs_background": "light"
     },
     "output_type": "display_data"
    }
   ],
   "source": [
    "#The number of ratings for each product, denoted by PDF and CDF\n",
    "#The bulk of the goods in the PDF have extremely few ratings, hence the distribution is skewed.\n",
    "\n",
    "ax1 = plt.subplot(121)\n",
    "sns.kdeplot(no_of_ratings_per_product, shade=True, ax=ax1)\n",
    "plt.xlabel('No of ratings by product')\n",
    "plt.title(\"PDF\")\n",
    "ax2 = plt.subplot(122)\n",
    "sns.kdeplot(no_of_ratings_per_product, shade=True, cumulative=True,ax=ax2)\n",
    "plt.xlabel('No of ratings by product')\n",
    "plt.title('CDF')\n",
    "plt.show()"
   ]
  },
  {
   "cell_type": "code",
   "execution_count": 41,
   "id": "8dfbc84f",
   "metadata": {},
   "outputs": [
    {
     "data": {
      "image/png": "[encoded data removed]",
      "text/plain": [
       "<Figure size 432x288 with 2 Axes>"
      ]
     },
     "metadata": {
      "needs_background": "light"
     },
     "output_type": "display_data"
    }
   ],
   "source": [
    "#The number of ratings for each product, denoted by PDF and CDF\n",
    "#The bulk of the goods in the PDF have extremely few ratings, hence the distribution is skewed.\n",
    "\n",
    "no_of_ratings_per_user = new_df.groupby(by='userId')['Rating'].count().sort_values(ascending=False)\n",
    "ax1 = plt.subplot(121)\n",
    "sns.kdeplot(no_of_ratings_per_user, shade=True, ax=ax1)\n",
    "plt.xlabel('No of ratings by user')\n",
    "plt.title(\"PDF\")\n",
    "\n",
    "ax2 = plt.subplot(122)\n",
    "sns.kdeplot(no_of_ratings_per_user, shade=True, cumulative=True,ax=ax2)\n",
    "plt.xlabel('No of ratings by user')\n",
    "plt.title('CDF')\n",
    "\n",
    "plt.show()"
   ]
  },
  {
   "cell_type": "code",
   "execution_count": 42,
   "id": "ac999718",
   "metadata": {},
   "outputs": [
    {
     "data": {
      "text/plain": [
       "<AxesSubplot:xlabel='productId'>"
      ]
     },
     "execution_count": 42,
     "metadata": {},
     "output_type": "execute_result"
    },
    {
     "data": {
      "image/png": "[encoded data removed]",
      "text/plain": [
       "<Figure size 432x288 with 1 Axes>"
      ]
     },
     "metadata": {
      "needs_background": "light"
     },
     "output_type": "display_data"
    }
   ],
   "source": [
    "#The product list of the top 30 most popular items \n",
    "#is displayed in the bar graph that can be seen below.\n",
    "popular_products = pd.DataFrame(new_df.groupby('productId')['Rating'].count())\n",
    "most_popular = popular_products.sort_values('Rating', ascending=False)\n",
    "most_popular.head(30).plot(kind = \"bar\")"
   ]
  },
  {
   "cell_type": "code",
   "execution_count": 43,
   "id": "8253fbbc",
   "metadata": {},
   "outputs": [
    {
     "name": "stdout",
     "output_type": "stream",
     "text": [
      "                userId   productId  Rating\n",
      "112409  A38QEATH3NODFM  B00005O7MO       5\n",
      "427476  A2R6RA8FRBS608  B0002344GQ       4\n",
      "20814   A11D1KHM7DVOQK  B00001P3XM       4\n",
      "757131    A6FIAB28IS79  B000BKJZ9Q       5\n",
      "12623   A3NCIN6TNL0MGA  B00000J4C9       3\n"
     ]
    }
   ],
   "source": [
    "#Split the data into 80% train and 20% test\n",
    "train_data, test_data = train_test_split(new_df, test_size = 0.20, random_state=0)\n",
    "print(train_data.head(5))"
   ]
  },
  {
   "cell_type": "code",
   "execution_count": 44,
   "id": "086133a3",
   "metadata": {},
   "outputs": [
    {
     "data": {
      "text/html": [
       "<div>\n",
       "<style scoped>\n",
       "    .dataframe tbody tr th:only-of-type {\n",
       "        vertical-align: middle;\n",
       "    }\n",
       "\n",
       "    .dataframe tbody tr th {\n",
       "        vertical-align: top;\n",
       "    }\n",
       "\n",
       "    .dataframe thead th {\n",
       "        text-align: right;\n",
       "    }\n",
       "</style>\n",
       "<table border=\"1\" class=\"dataframe\">\n",
       "  <thead>\n",
       "    <tr style=\"text-align: right;\">\n",
       "      <th></th>\n",
       "      <th>productId</th>\n",
       "      <th>score</th>\n",
       "    </tr>\n",
       "  </thead>\n",
       "  <tbody>\n",
       "    <tr>\n",
       "      <th>0</th>\n",
       "      <td>1400532655</td>\n",
       "      <td>1</td>\n",
       "    </tr>\n",
       "    <tr>\n",
       "      <th>1</th>\n",
       "      <td>998376234X</td>\n",
       "      <td>1</td>\n",
       "    </tr>\n",
       "    <tr>\n",
       "      <th>2</th>\n",
       "      <td>B000001OL6</td>\n",
       "      <td>1</td>\n",
       "    </tr>\n",
       "    <tr>\n",
       "      <th>3</th>\n",
       "      <td>B000001OMI</td>\n",
       "      <td>1</td>\n",
       "    </tr>\n",
       "    <tr>\n",
       "      <th>4</th>\n",
       "      <td>B000001OMN</td>\n",
       "      <td>1</td>\n",
       "    </tr>\n",
       "  </tbody>\n",
       "</table>\n",
       "</div>"
      ],
      "text/plain": [
       "    productId  score\n",
       "0  1400532655      1\n",
       "1  998376234X      1\n",
       "2  B000001OL6      1\n",
       "3  B000001OMI      1\n",
       "4  B000001OMN      1"
      ]
     },
     "execution_count": 44,
     "metadata": {},
     "output_type": "execute_result"
    }
   ],
   "source": [
    "#Count of user_ids for each one of a kind product used to calculate the recommendation score\n",
    "train_data_grouped = train_data.groupby('productId').agg({'userId': 'count'}).reset_index()\n",
    "train_data_grouped.rename(columns = {'userId': 'score'},inplace=True)\n",
    "train_data_grouped.head()"
   ]
  },
  {
   "cell_type": "code",
   "execution_count": 45,
   "id": "e821be5d",
   "metadata": {},
   "outputs": [
    {
     "data": {
      "text/html": [
       "<div>\n",
       "<style scoped>\n",
       "    .dataframe tbody tr th:only-of-type {\n",
       "        vertical-align: middle;\n",
       "    }\n",
       "\n",
       "    .dataframe tbody tr th {\n",
       "        vertical-align: top;\n",
       "    }\n",
       "\n",
       "    .dataframe thead th {\n",
       "        text-align: right;\n",
       "    }\n",
       "</style>\n",
       "<table border=\"1\" class=\"dataframe\">\n",
       "  <thead>\n",
       "    <tr style=\"text-align: right;\">\n",
       "      <th></th>\n",
       "      <th>productId</th>\n",
       "      <th>score</th>\n",
       "      <th>Rank</th>\n",
       "    </tr>\n",
       "  </thead>\n",
       "  <tbody>\n",
       "    <tr>\n",
       "      <th>125</th>\n",
       "      <td>B00004SB92</td>\n",
       "      <td>6</td>\n",
       "      <td>1.0</td>\n",
       "    </tr>\n",
       "    <tr>\n",
       "      <th>264</th>\n",
       "      <td>B00004ZCJE</td>\n",
       "      <td>5</td>\n",
       "      <td>2.0</td>\n",
       "    </tr>\n",
       "    <tr>\n",
       "      <th>1993</th>\n",
       "      <td>B0009RKL5S</td>\n",
       "      <td>5</td>\n",
       "      <td>3.0</td>\n",
       "    </tr>\n",
       "    <tr>\n",
       "      <th>246</th>\n",
       "      <td>B00004Z5M1</td>\n",
       "      <td>4</td>\n",
       "      <td>4.0</td>\n",
       "    </tr>\n",
       "    <tr>\n",
       "      <th>547</th>\n",
       "      <td>B0000645C9</td>\n",
       "      <td>4</td>\n",
       "      <td>5.0</td>\n",
       "    </tr>\n",
       "  </tbody>\n",
       "</table>\n",
       "</div>"
      ],
      "text/plain": [
       "       productId  score  Rank\n",
       "125   B00004SB92      6   1.0\n",
       "264   B00004ZCJE      5   2.0\n",
       "1993  B0009RKL5S      5   3.0\n",
       "246   B00004Z5M1      4   4.0\n",
       "547   B0000645C9      4   5.0"
      ]
     },
     "execution_count": 45,
     "metadata": {},
     "output_type": "execute_result"
    }
   ],
   "source": [
    "#Sort the products on recommendation score \n",
    "train_data_sort = train_data_grouped.sort_values(['score', 'productId'], ascending = [0,1])     \n",
    "#Generate a recommendation rank based upon score \n",
    "train_data_sort['Rank'] = train_data_sort['score'].rank(ascending=0, method='first') \n",
    "#Get the top 5 recommendations \n",
    "popularity_recommendations = train_data_sort.head(5) \n",
    "popularity_recommendations "
   ]
  },
  {
   "cell_type": "code",
   "execution_count": 46,
   "id": "45a7b2dd",
   "metadata": {},
   "outputs": [],
   "source": [
    "# To create predictions for a user, utilise a recommender model that is based on popularity \n",
    "# As we have mentioned before, this list will be the same for all of the users\n",
    "def recommend(user_id):     \n",
    "    user_recommendations = popularity_recommendations \n",
    "          \n",
    "    #Add user_id column for which the recommendations are being generated \n",
    "    user_recommendations['userId'] = user_id \n",
    "      \n",
    "    #Bring user_id column to the front \n",
    "    cols = user_recommendations.columns.tolist() \n",
    "    cols = cols[-1:] + cols[:-1] \n",
    "    user_recommendations = user_recommendations[cols] \n",
    "          \n",
    "    return user_recommendations "
   ]
  },
  {
   "cell_type": "code",
   "execution_count": 47,
   "id": "05e13460",
   "metadata": {},
   "outputs": [
    {
     "name": "stdout",
     "output_type": "stream",
     "text": [
      "Here is the recommendation for the userId: A15BHBF0L0HV1F\n",
      "\n",
      "              userId   productId  score  Rank\n",
      "125   A15BHBF0L0HV1F  B00004SB92      6   1.0\n",
      "264   A15BHBF0L0HV1F  B00004ZCJE      5   2.0\n",
      "1993  A15BHBF0L0HV1F  B0009RKL5S      5   3.0\n",
      "246   A15BHBF0L0HV1F  B00004Z5M1      4   4.0\n",
      "547   A15BHBF0L0HV1F  B0000645C9      4   5.0\n",
      "\n",
      "\n",
      "Here is the recommendation for the userId: A3VVJIZXLL1QFP\n",
      "\n",
      "              userId   productId  score  Rank\n",
      "125   A3VVJIZXLL1QFP  B00004SB92      6   1.0\n",
      "264   A3VVJIZXLL1QFP  B00004ZCJE      5   2.0\n",
      "1993  A3VVJIZXLL1QFP  B0009RKL5S      5   3.0\n",
      "246   A3VVJIZXLL1QFP  B00004Z5M1      4   4.0\n",
      "547   A3VVJIZXLL1QFP  B0000645C9      4   5.0\n",
      "\n",
      "\n",
      "Here is the recommendation for the userId: AFHY3XJJ6NCAI\n",
      "\n",
      "             userId   productId  score  Rank\n",
      "125   AFHY3XJJ6NCAI  B00004SB92      6   1.0\n",
      "264   AFHY3XJJ6NCAI  B00004ZCJE      5   2.0\n",
      "1993  AFHY3XJJ6NCAI  B0009RKL5S      5   3.0\n",
      "246   AFHY3XJJ6NCAI  B00004Z5M1      4   4.0\n",
      "547   AFHY3XJJ6NCAI  B0000645C9      4   5.0\n",
      "\n",
      "\n",
      "Here is the recommendation for the userId: A2WPY1SNQPCC00\n",
      "\n",
      "              userId   productId  score  Rank\n",
      "125   A2WPY1SNQPCC00  B00004SB92      6   1.0\n",
      "264   A2WPY1SNQPCC00  B00004ZCJE      5   2.0\n",
      "1993  A2WPY1SNQPCC00  B0009RKL5S      5   3.0\n",
      "246   A2WPY1SNQPCC00  B00004Z5M1      4   4.0\n",
      "547   A2WPY1SNQPCC00  B0000645C9      4   5.0\n",
      "\n",
      "\n",
      "Here is the recommendation for the userId: AJMJREC90WJVP\n",
      "\n",
      "             userId   productId  score  Rank\n",
      "125   AJMJREC90WJVP  B00004SB92      6   1.0\n",
      "264   AJMJREC90WJVP  B00004ZCJE      5   2.0\n",
      "1993  AJMJREC90WJVP  B0009RKL5S      5   3.0\n",
      "246   AJMJREC90WJVP  B00004Z5M1      4   4.0\n",
      "547   AJMJREC90WJVP  B0000645C9      4   5.0\n",
      "\n",
      "\n"
     ]
    },
    {
     "name": "stderr",
     "output_type": "stream",
     "text": [
      "C:\\Users\\kashi\\AppData\\Local\\Temp\\ipykernel_9440\\2639740726.py:7: SettingWithCopyWarning: \n",
      "A value is trying to be set on a copy of a slice from a DataFrame.\n",
      "Try using .loc[row_indexer,col_indexer] = value instead\n",
      "\n",
      "See the caveats in the documentation: https://pandas.pydata.org/pandas-docs/stable/user_guide/indexing.html#returning-a-view-versus-a-copy\n",
      "  user_recommendations['userId'] = user_id\n",
      "C:\\Users\\kashi\\AppData\\Local\\Temp\\ipykernel_9440\\2639740726.py:7: SettingWithCopyWarning: \n",
      "A value is trying to be set on a copy of a slice from a DataFrame.\n",
      "Try using .loc[row_indexer,col_indexer] = value instead\n",
      "\n",
      "See the caveats in the documentation: https://pandas.pydata.org/pandas-docs/stable/user_guide/indexing.html#returning-a-view-versus-a-copy\n",
      "  user_recommendations['userId'] = user_id\n",
      "C:\\Users\\kashi\\AppData\\Local\\Temp\\ipykernel_9440\\2639740726.py:7: SettingWithCopyWarning: \n",
      "A value is trying to be set on a copy of a slice from a DataFrame.\n",
      "Try using .loc[row_indexer,col_indexer] = value instead\n",
      "\n",
      "See the caveats in the documentation: https://pandas.pydata.org/pandas-docs/stable/user_guide/indexing.html#returning-a-view-versus-a-copy\n",
      "  user_recommendations['userId'] = user_id\n",
      "C:\\Users\\kashi\\AppData\\Local\\Temp\\ipykernel_9440\\2639740726.py:7: SettingWithCopyWarning: \n",
      "A value is trying to be set on a copy of a slice from a DataFrame.\n",
      "Try using .loc[row_indexer,col_indexer] = value instead\n",
      "\n",
      "See the caveats in the documentation: https://pandas.pydata.org/pandas-docs/stable/user_guide/indexing.html#returning-a-view-versus-a-copy\n",
      "  user_recommendations['userId'] = user_id\n",
      "C:\\Users\\kashi\\AppData\\Local\\Temp\\ipykernel_9440\\2639740726.py:7: SettingWithCopyWarning: \n",
      "A value is trying to be set on a copy of a slice from a DataFrame.\n",
      "Try using .loc[row_indexer,col_indexer] = value instead\n",
      "\n",
      "See the caveats in the documentation: https://pandas.pydata.org/pandas-docs/stable/user_guide/indexing.html#returning-a-view-versus-a-copy\n",
      "  user_recommendations['userId'] = user_id\n"
     ]
    }
   ],
   "source": [
    "#Since this is a popularity-based recommendation approach,\n",
    "#regardless of the user's selection, the same goods will be presented on this list, \n",
    "#which was compiled based on user votes.\n",
    "find_recom = ['A15BHBF0L0HV1F','A3VVJIZXLL1QFP','AFHY3XJJ6NCAI','A2WPY1SNQPCC00','AJMJREC90WJVP']   \n",
    "for i in find_recom:\n",
    "    print(\"Here is the recommendation for the userId: %s\\n\" %(i))\n",
    "    print(recommend(i))    \n",
    "    print(\"\\n\")"
   ]
  },
  {
   "cell_type": "code",
   "execution_count": 48,
   "id": "1725525a",
   "metadata": {},
   "outputs": [
    {
     "data": {
      "text/html": [
       "<div>\n",
       "<style scoped>\n",
       "    .dataframe tbody tr th:only-of-type {\n",
       "        vertical-align: middle;\n",
       "    }\n",
       "\n",
       "    .dataframe tbody tr th {\n",
       "        vertical-align: top;\n",
       "    }\n",
       "\n",
       "    .dataframe thead th {\n",
       "        text-align: right;\n",
       "    }\n",
       "</style>\n",
       "<table border=\"1\" class=\"dataframe\">\n",
       "  <thead>\n",
       "    <tr style=\"text-align: right;\">\n",
       "      <th></th>\n",
       "      <th>productId</th>\n",
       "      <th>score</th>\n",
       "      <th>Rank</th>\n",
       "    </tr>\n",
       "  </thead>\n",
       "  <tbody>\n",
       "    <tr>\n",
       "      <th>125</th>\n",
       "      <td>B00004SB92</td>\n",
       "      <td>6</td>\n",
       "      <td>1.0</td>\n",
       "    </tr>\n",
       "    <tr>\n",
       "      <th>264</th>\n",
       "      <td>B00004ZCJE</td>\n",
       "      <td>5</td>\n",
       "      <td>2.0</td>\n",
       "    </tr>\n",
       "    <tr>\n",
       "      <th>1993</th>\n",
       "      <td>B0009RKL5S</td>\n",
       "      <td>5</td>\n",
       "      <td>3.0</td>\n",
       "    </tr>\n",
       "    <tr>\n",
       "      <th>246</th>\n",
       "      <td>B00004Z5M1</td>\n",
       "      <td>4</td>\n",
       "      <td>4.0</td>\n",
       "    </tr>\n",
       "    <tr>\n",
       "      <th>547</th>\n",
       "      <td>B0000645C9</td>\n",
       "      <td>4</td>\n",
       "      <td>5.0</td>\n",
       "    </tr>\n",
       "  </tbody>\n",
       "</table>\n",
       "</div>"
      ],
      "text/plain": [
       "       productId  score  Rank\n",
       "125   B00004SB92      6   1.0\n",
       "264   B00004ZCJE      5   2.0\n",
       "1993  B0009RKL5S      5   3.0\n",
       "246   B00004Z5M1      4   4.0\n",
       "547   B0000645C9      4   5.0"
      ]
     },
     "execution_count": 48,
     "metadata": {},
     "output_type": "execute_result"
    }
   ],
   "source": [
    "train_data_sort.head()\n",
    "#print(pred)"
   ]
  },
  {
   "cell_type": "code",
   "execution_count": 49,
   "id": "4a36fc83",
   "metadata": {},
   "outputs": [
    {
     "data": {
      "text/html": [
       "<div>\n",
       "<style scoped>\n",
       "    .dataframe tbody tr th:only-of-type {\n",
       "        vertical-align: middle;\n",
       "    }\n",
       "\n",
       "    .dataframe tbody tr th {\n",
       "        vertical-align: top;\n",
       "    }\n",
       "\n",
       "    .dataframe thead th {\n",
       "        text-align: right;\n",
       "    }\n",
       "</style>\n",
       "<table border=\"1\" class=\"dataframe\">\n",
       "  <thead>\n",
       "    <tr style=\"text-align: right;\">\n",
       "      <th></th>\n",
       "      <th>userId</th>\n",
       "      <th>productId</th>\n",
       "      <th>Rating</th>\n",
       "    </tr>\n",
       "  </thead>\n",
       "  <tbody>\n",
       "    <tr>\n",
       "      <th>795917</th>\n",
       "      <td>A203OCQQ12MAVT</td>\n",
       "      <td>B000CBSGYE</td>\n",
       "      <td>5</td>\n",
       "    </tr>\n",
       "    <tr>\n",
       "      <th>572323</th>\n",
       "      <td>A1JWSDDIH5Z7DV</td>\n",
       "      <td>B0006PK8IS</td>\n",
       "      <td>5</td>\n",
       "    </tr>\n",
       "    <tr>\n",
       "      <th>671613</th>\n",
       "      <td>A149RNR5RH19YY</td>\n",
       "      <td>B0009MFQ1M</td>\n",
       "      <td>4</td>\n",
       "    </tr>\n",
       "    <tr>\n",
       "      <th>992833</th>\n",
       "      <td>A12DLJESJKM1OQ</td>\n",
       "      <td>B000HAQ8EK</td>\n",
       "      <td>4</td>\n",
       "    </tr>\n",
       "    <tr>\n",
       "      <th>176185</th>\n",
       "      <td>A25HBO5V8S8SEA</td>\n",
       "      <td>B00006B9ZA</td>\n",
       "      <td>5</td>\n",
       "    </tr>\n",
       "  </tbody>\n",
       "</table>\n",
       "</div>"
      ],
      "text/plain": [
       "                userId   productId  Rating\n",
       "795917  A203OCQQ12MAVT  B000CBSGYE       5\n",
       "572323  A1JWSDDIH5Z7DV  B0006PK8IS       5\n",
       "671613  A149RNR5RH19YY  B0009MFQ1M       4\n",
       "992833  A12DLJESJKM1OQ  B000HAQ8EK       4\n",
       "176185  A25HBO5V8S8SEA  B00006B9ZA       5"
      ]
     },
     "execution_count": 49,
     "metadata": {},
     "output_type": "execute_result"
    }
   ],
   "source": [
    "test_data.head()"
   ]
  },
  {
   "cell_type": "code",
   "execution_count": 50,
   "id": "55e9d700",
   "metadata": {},
   "outputs": [],
   "source": [
    "#Calculating the Root Mean Square Error \n",
    "#(RMSE) of the Recommendation System Based on Popularity \n",
    "#The Rating that is shown in the Test Data is the Actual Rating (Act_rating).\n",
    "test_data2 = test_data.copy()\n",
    "#ratings.drop(['timestamp'], axis=1,inplace=True)\n",
    "test_data2.drop(['userId'],axis=1,inplace=True)\n",
    "test_data2.rename(columns = {'Rating':'Act_rating'}, inplace = True)"
   ]
  },
  {
   "cell_type": "code",
   "execution_count": 51,
   "id": "ca7b909b",
   "metadata": {},
   "outputs": [
    {
     "data": {
      "text/html": [
       "<div>\n",
       "<style scoped>\n",
       "    .dataframe tbody tr th:only-of-type {\n",
       "        vertical-align: middle;\n",
       "    }\n",
       "\n",
       "    .dataframe tbody tr th {\n",
       "        vertical-align: top;\n",
       "    }\n",
       "\n",
       "    .dataframe thead th {\n",
       "        text-align: right;\n",
       "    }\n",
       "</style>\n",
       "<table border=\"1\" class=\"dataframe\">\n",
       "  <thead>\n",
       "    <tr style=\"text-align: right;\">\n",
       "      <th></th>\n",
       "      <th>productId</th>\n",
       "      <th>Act_rating</th>\n",
       "    </tr>\n",
       "  </thead>\n",
       "  <tbody>\n",
       "    <tr>\n",
       "      <th>795917</th>\n",
       "      <td>B000CBSGYE</td>\n",
       "      <td>5</td>\n",
       "    </tr>\n",
       "    <tr>\n",
       "      <th>572323</th>\n",
       "      <td>B0006PK8IS</td>\n",
       "      <td>5</td>\n",
       "    </tr>\n",
       "    <tr>\n",
       "      <th>671613</th>\n",
       "      <td>B0009MFQ1M</td>\n",
       "      <td>4</td>\n",
       "    </tr>\n",
       "    <tr>\n",
       "      <th>992833</th>\n",
       "      <td>B000HAQ8EK</td>\n",
       "      <td>4</td>\n",
       "    </tr>\n",
       "    <tr>\n",
       "      <th>176185</th>\n",
       "      <td>B00006B9ZA</td>\n",
       "      <td>5</td>\n",
       "    </tr>\n",
       "  </tbody>\n",
       "</table>\n",
       "</div>"
      ],
      "text/plain": [
       "         productId  Act_rating\n",
       "795917  B000CBSGYE           5\n",
       "572323  B0006PK8IS           5\n",
       "671613  B0009MFQ1M           4\n",
       "992833  B000HAQ8EK           4\n",
       "176185  B00006B9ZA           5"
      ]
     },
     "execution_count": 51,
     "metadata": {},
     "output_type": "execute_result"
    }
   ],
   "source": [
    "test_data2.head()"
   ]
  },
  {
   "cell_type": "code",
   "execution_count": 52,
   "id": "1c1b7162",
   "metadata": {},
   "outputs": [
    {
     "data": {
      "text/html": [
       "<div>\n",
       "<style scoped>\n",
       "    .dataframe tbody tr th:only-of-type {\n",
       "        vertical-align: middle;\n",
       "    }\n",
       "\n",
       "    .dataframe tbody tr th {\n",
       "        vertical-align: top;\n",
       "    }\n",
       "\n",
       "    .dataframe thead th {\n",
       "        text-align: right;\n",
       "    }\n",
       "</style>\n",
       "<table border=\"1\" class=\"dataframe\">\n",
       "  <thead>\n",
       "    <tr style=\"text-align: right;\">\n",
       "      <th></th>\n",
       "      <th>productId</th>\n",
       "      <th>Sum_rating</th>\n",
       "    </tr>\n",
       "  </thead>\n",
       "  <tbody>\n",
       "    <tr>\n",
       "      <th>0</th>\n",
       "      <td>1400532655</td>\n",
       "      <td>1</td>\n",
       "    </tr>\n",
       "    <tr>\n",
       "      <th>1</th>\n",
       "      <td>998376234X</td>\n",
       "      <td>1</td>\n",
       "    </tr>\n",
       "    <tr>\n",
       "      <th>2</th>\n",
       "      <td>B000001OL6</td>\n",
       "      <td>4</td>\n",
       "    </tr>\n",
       "    <tr>\n",
       "      <th>3</th>\n",
       "      <td>B000001OMI</td>\n",
       "      <td>5</td>\n",
       "    </tr>\n",
       "    <tr>\n",
       "      <th>4</th>\n",
       "      <td>B000001OMN</td>\n",
       "      <td>2</td>\n",
       "    </tr>\n",
       "  </tbody>\n",
       "</table>\n",
       "</div>"
      ],
      "text/plain": [
       "    productId  Sum_rating\n",
       "0  1400532655           1\n",
       "1  998376234X           1\n",
       "2  B000001OL6           4\n",
       "3  B000001OMI           5\n",
       "4  B000001OMN           2"
      ]
     },
     "execution_count": 52,
     "metadata": {},
     "output_type": "execute_result"
    }
   ],
   "source": [
    "#Count of user_id for each unique product as recommendation score \n",
    "train_data_grouped2 = train_data.groupby('productId').agg({'Rating': 'sum'}).reset_index()\n",
    "train_data_grouped2.rename(columns = {'Rating': 'Sum_rating'},inplace=True)\n",
    "train_data_grouped2.head()"
   ]
  },
  {
   "cell_type": "code",
   "execution_count": 53,
   "id": "80438c57",
   "metadata": {},
   "outputs": [],
   "source": [
    "train_data_inner = pd.merge(train_data_grouped2, train_data_sort)"
   ]
  },
  {
   "cell_type": "code",
   "execution_count": 54,
   "id": "faa704f1",
   "metadata": {},
   "outputs": [
    {
     "data": {
      "text/html": [
       "<div>\n",
       "<style scoped>\n",
       "    .dataframe tbody tr th:only-of-type {\n",
       "        vertical-align: middle;\n",
       "    }\n",
       "\n",
       "    .dataframe tbody tr th {\n",
       "        vertical-align: top;\n",
       "    }\n",
       "\n",
       "    .dataframe thead th {\n",
       "        text-align: right;\n",
       "    }\n",
       "</style>\n",
       "<table border=\"1\" class=\"dataframe\">\n",
       "  <thead>\n",
       "    <tr style=\"text-align: right;\">\n",
       "      <th></th>\n",
       "      <th>productId</th>\n",
       "      <th>Sum_rating</th>\n",
       "      <th>score</th>\n",
       "      <th>Rank</th>\n",
       "    </tr>\n",
       "  </thead>\n",
       "  <tbody>\n",
       "    <tr>\n",
       "      <th>0</th>\n",
       "      <td>1400532655</td>\n",
       "      <td>1</td>\n",
       "      <td>1</td>\n",
       "      <td>280.0</td>\n",
       "    </tr>\n",
       "    <tr>\n",
       "      <th>1</th>\n",
       "      <td>998376234X</td>\n",
       "      <td>1</td>\n",
       "      <td>1</td>\n",
       "      <td>281.0</td>\n",
       "    </tr>\n",
       "    <tr>\n",
       "      <th>2</th>\n",
       "      <td>B000001OL6</td>\n",
       "      <td>4</td>\n",
       "      <td>1</td>\n",
       "      <td>282.0</td>\n",
       "    </tr>\n",
       "    <tr>\n",
       "      <th>3</th>\n",
       "      <td>B000001OMI</td>\n",
       "      <td>5</td>\n",
       "      <td>1</td>\n",
       "      <td>283.0</td>\n",
       "    </tr>\n",
       "    <tr>\n",
       "      <th>4</th>\n",
       "      <td>B000001OMN</td>\n",
       "      <td>2</td>\n",
       "      <td>1</td>\n",
       "      <td>284.0</td>\n",
       "    </tr>\n",
       "  </tbody>\n",
       "</table>\n",
       "</div>"
      ],
      "text/plain": [
       "    productId  Sum_rating  score   Rank\n",
       "0  1400532655           1      1  280.0\n",
       "1  998376234X           1      1  281.0\n",
       "2  B000001OL6           4      1  282.0\n",
       "3  B000001OMI           5      1  283.0\n",
       "4  B000001OMN           2      1  284.0"
      ]
     },
     "execution_count": 54,
     "metadata": {},
     "output_type": "execute_result"
    }
   ],
   "source": [
    "train_data_inner.head()"
   ]
  },
  {
   "cell_type": "code",
   "execution_count": 55,
   "id": "5f0746fb",
   "metadata": {},
   "outputs": [],
   "source": [
    "#Obtain the average rating of the product across users\n",
    "train_data_inner[\"Avg_Rating\"] = train_data_inner[\"Sum_rating\"]/train_data_inner[\"score\"]"
   ]
  },
  {
   "cell_type": "code",
   "execution_count": 56,
   "id": "b0c4f525",
   "metadata": {},
   "outputs": [
    {
     "data": {
      "text/html": [
       "<div>\n",
       "<style scoped>\n",
       "    .dataframe tbody tr th:only-of-type {\n",
       "        vertical-align: middle;\n",
       "    }\n",
       "\n",
       "    .dataframe tbody tr th {\n",
       "        vertical-align: top;\n",
       "    }\n",
       "\n",
       "    .dataframe thead th {\n",
       "        text-align: right;\n",
       "    }\n",
       "</style>\n",
       "<table border=\"1\" class=\"dataframe\">\n",
       "  <thead>\n",
       "    <tr style=\"text-align: right;\">\n",
       "      <th></th>\n",
       "      <th>productId</th>\n",
       "      <th>Sum_rating</th>\n",
       "      <th>score</th>\n",
       "      <th>Rank</th>\n",
       "      <th>Avg_Rating</th>\n",
       "    </tr>\n",
       "  </thead>\n",
       "  <tbody>\n",
       "    <tr>\n",
       "      <th>0</th>\n",
       "      <td>1400532655</td>\n",
       "      <td>1</td>\n",
       "      <td>1</td>\n",
       "      <td>280.0</td>\n",
       "      <td>1.0</td>\n",
       "    </tr>\n",
       "    <tr>\n",
       "      <th>1</th>\n",
       "      <td>998376234X</td>\n",
       "      <td>1</td>\n",
       "      <td>1</td>\n",
       "      <td>281.0</td>\n",
       "      <td>1.0</td>\n",
       "    </tr>\n",
       "    <tr>\n",
       "      <th>2</th>\n",
       "      <td>B000001OL6</td>\n",
       "      <td>4</td>\n",
       "      <td>1</td>\n",
       "      <td>282.0</td>\n",
       "      <td>4.0</td>\n",
       "    </tr>\n",
       "    <tr>\n",
       "      <th>3</th>\n",
       "      <td>B000001OMI</td>\n",
       "      <td>5</td>\n",
       "      <td>1</td>\n",
       "      <td>283.0</td>\n",
       "      <td>5.0</td>\n",
       "    </tr>\n",
       "    <tr>\n",
       "      <th>4</th>\n",
       "      <td>B000001OMN</td>\n",
       "      <td>2</td>\n",
       "      <td>1</td>\n",
       "      <td>284.0</td>\n",
       "      <td>2.0</td>\n",
       "    </tr>\n",
       "  </tbody>\n",
       "</table>\n",
       "</div>"
      ],
      "text/plain": [
       "    productId  Sum_rating  score   Rank  Avg_Rating\n",
       "0  1400532655           1      1  280.0         1.0\n",
       "1  998376234X           1      1  281.0         1.0\n",
       "2  B000001OL6           4      1  282.0         4.0\n",
       "3  B000001OMI           5      1  283.0         5.0\n",
       "4  B000001OMN           2      1  284.0         2.0"
      ]
     },
     "execution_count": 56,
     "metadata": {},
     "output_type": "execute_result"
    }
   ],
   "source": [
    "train_data_inner.head()"
   ]
  },
  {
   "cell_type": "code",
   "execution_count": 57,
   "id": "79a049ec",
   "metadata": {},
   "outputs": [],
   "source": [
    "#Combine the data from the train, \n",
    "#which has an average rating, with the data from the test,\n",
    "#which has an actual rating at the product level\n",
    "test_data_inner = pd.merge(train_data_inner, test_data2)"
   ]
  },
  {
   "cell_type": "code",
   "execution_count": 58,
   "id": "e341191f",
   "metadata": {},
   "outputs": [
    {
     "data": {
      "text/html": [
       "<div>\n",
       "<style scoped>\n",
       "    .dataframe tbody tr th:only-of-type {\n",
       "        vertical-align: middle;\n",
       "    }\n",
       "\n",
       "    .dataframe tbody tr th {\n",
       "        vertical-align: top;\n",
       "    }\n",
       "\n",
       "    .dataframe thead th {\n",
       "        text-align: right;\n",
       "    }\n",
       "</style>\n",
       "<table border=\"1\" class=\"dataframe\">\n",
       "  <thead>\n",
       "    <tr style=\"text-align: right;\">\n",
       "      <th></th>\n",
       "      <th>productId</th>\n",
       "      <th>Sum_rating</th>\n",
       "      <th>score</th>\n",
       "      <th>Rank</th>\n",
       "      <th>Avg_Rating</th>\n",
       "      <th>Act_rating</th>\n",
       "    </tr>\n",
       "  </thead>\n",
       "  <tbody>\n",
       "    <tr>\n",
       "      <th>0</th>\n",
       "      <td>B00000J061</td>\n",
       "      <td>5</td>\n",
       "      <td>1</td>\n",
       "      <td>286.0</td>\n",
       "      <td>5.0</td>\n",
       "      <td>5</td>\n",
       "    </tr>\n",
       "    <tr>\n",
       "      <th>1</th>\n",
       "      <td>B00000JF4L</td>\n",
       "      <td>5</td>\n",
       "      <td>1</td>\n",
       "      <td>311.0</td>\n",
       "      <td>5.0</td>\n",
       "      <td>5</td>\n",
       "    </tr>\n",
       "    <tr>\n",
       "      <th>2</th>\n",
       "      <td>B000021YUO</td>\n",
       "      <td>5</td>\n",
       "      <td>1</td>\n",
       "      <td>345.0</td>\n",
       "      <td>5.0</td>\n",
       "      <td>5</td>\n",
       "    </tr>\n",
       "    <tr>\n",
       "      <th>3</th>\n",
       "      <td>B00003006E</td>\n",
       "      <td>5</td>\n",
       "      <td>1</td>\n",
       "      <td>353.0</td>\n",
       "      <td>5.0</td>\n",
       "      <td>5</td>\n",
       "    </tr>\n",
       "    <tr>\n",
       "      <th>4</th>\n",
       "      <td>B000031KIM</td>\n",
       "      <td>5</td>\n",
       "      <td>1</td>\n",
       "      <td>361.0</td>\n",
       "      <td>5.0</td>\n",
       "      <td>5</td>\n",
       "    </tr>\n",
       "  </tbody>\n",
       "</table>\n",
       "</div>"
      ],
      "text/plain": [
       "    productId  Sum_rating  score   Rank  Avg_Rating  Act_rating\n",
       "0  B00000J061           5      1  286.0         5.0           5\n",
       "1  B00000JF4L           5      1  311.0         5.0           5\n",
       "2  B000021YUO           5      1  345.0         5.0           5\n",
       "3  B00003006E           5      1  353.0         5.0           5\n",
       "4  B000031KIM           5      1  361.0         5.0           5"
      ]
     },
     "execution_count": 58,
     "metadata": {},
     "output_type": "execute_result"
    }
   ],
   "source": [
    "test_data_inner.head()"
   ]
  },
  {
   "cell_type": "code",
   "execution_count": 59,
   "id": "80e52ada",
   "metadata": {},
   "outputs": [
    {
     "data": {
      "text/html": [
       "<div>\n",
       "<style scoped>\n",
       "    .dataframe tbody tr th:only-of-type {\n",
       "        vertical-align: middle;\n",
       "    }\n",
       "\n",
       "    .dataframe tbody tr th {\n",
       "        vertical-align: top;\n",
       "    }\n",
       "\n",
       "    .dataframe thead th {\n",
       "        text-align: right;\n",
       "    }\n",
       "</style>\n",
       "<table border=\"1\" class=\"dataframe\">\n",
       "  <thead>\n",
       "    <tr style=\"text-align: right;\">\n",
       "      <th></th>\n",
       "      <th>productId</th>\n",
       "      <th>Sum_rating</th>\n",
       "      <th>score</th>\n",
       "      <th>Rank</th>\n",
       "      <th>Avg_Rating</th>\n",
       "      <th>Act_rating</th>\n",
       "    </tr>\n",
       "  </thead>\n",
       "  <tbody>\n",
       "    <tr>\n",
       "      <th>0</th>\n",
       "      <td>B00000J061</td>\n",
       "      <td>5</td>\n",
       "      <td>1</td>\n",
       "      <td>286.0</td>\n",
       "      <td>5.0</td>\n",
       "      <td>5</td>\n",
       "    </tr>\n",
       "    <tr>\n",
       "      <th>1</th>\n",
       "      <td>B00000JF4L</td>\n",
       "      <td>5</td>\n",
       "      <td>1</td>\n",
       "      <td>311.0</td>\n",
       "      <td>5.0</td>\n",
       "      <td>5</td>\n",
       "    </tr>\n",
       "    <tr>\n",
       "      <th>2</th>\n",
       "      <td>B000021YUO</td>\n",
       "      <td>5</td>\n",
       "      <td>1</td>\n",
       "      <td>345.0</td>\n",
       "      <td>5.0</td>\n",
       "      <td>5</td>\n",
       "    </tr>\n",
       "    <tr>\n",
       "      <th>3</th>\n",
       "      <td>B00003006E</td>\n",
       "      <td>5</td>\n",
       "      <td>1</td>\n",
       "      <td>353.0</td>\n",
       "      <td>5.0</td>\n",
       "      <td>5</td>\n",
       "    </tr>\n",
       "    <tr>\n",
       "      <th>4</th>\n",
       "      <td>B000031KIM</td>\n",
       "      <td>5</td>\n",
       "      <td>1</td>\n",
       "      <td>361.0</td>\n",
       "      <td>5.0</td>\n",
       "      <td>5</td>\n",
       "    </tr>\n",
       "  </tbody>\n",
       "</table>\n",
       "</div>"
      ],
      "text/plain": [
       "    productId  Sum_rating  score   Rank  Avg_Rating  Act_rating\n",
       "0  B00000J061           5      1  286.0         5.0           5\n",
       "1  B00000JF4L           5      1  311.0         5.0           5\n",
       "2  B000021YUO           5      1  345.0         5.0           5\n",
       "3  B00003006E           5      1  353.0         5.0           5\n",
       "4  B000031KIM           5      1  361.0         5.0           5"
      ]
     },
     "execution_count": 59,
     "metadata": {},
     "output_type": "execute_result"
    }
   ],
   "source": [
    "#Now that the data have been integrated, we get both the actual rating (abbreviated as Act_rating) and the expected rating (abbreviated as Avg_rating).\n",
    "#At this point, RMSE can be determined.\n",
    "test_data_inner.head()"
   ]
  },
  {
   "cell_type": "code",
   "execution_count": 60,
   "id": "199dcb9f",
   "metadata": {},
   "outputs": [
    {
     "name": "stdout",
     "output_type": "stream",
     "text": [
      "RMSE for popularity based recommendation system: 1.3943845520038947\n"
     ]
    }
   ],
   "source": [
    "mse = mean_squared_error(test_data_inner[\"Act_rating\"], test_data_inner[\"Avg_Rating\"])\n",
    "rmse = math.sqrt(mse)\n",
    "print(\"RMSE for popularity based recommendation system:\", rmse)"
   ]
  },
  {
   "cell_type": "code",
   "execution_count": 61,
   "id": "51f85e7d",
   "metadata": {},
   "outputs": [
    {
     "data": {
      "text/html": [
       "<div>\n",
       "<style scoped>\n",
       "    .dataframe tbody tr th:only-of-type {\n",
       "        vertical-align: middle;\n",
       "    }\n",
       "\n",
       "    .dataframe tbody tr th {\n",
       "        vertical-align: top;\n",
       "    }\n",
       "\n",
       "    .dataframe thead th {\n",
       "        text-align: right;\n",
       "    }\n",
       "</style>\n",
       "<table border=\"1\" class=\"dataframe\">\n",
       "  <thead>\n",
       "    <tr style=\"text-align: right;\">\n",
       "      <th></th>\n",
       "      <th>userId</th>\n",
       "      <th>productId</th>\n",
       "      <th>Rating</th>\n",
       "    </tr>\n",
       "  </thead>\n",
       "  <tbody>\n",
       "    <tr>\n",
       "      <th>0</th>\n",
       "      <td>A2CX7LUOHB2NDG</td>\n",
       "      <td>321732944</td>\n",
       "      <td>5</td>\n",
       "    </tr>\n",
       "    <tr>\n",
       "      <th>1</th>\n",
       "      <td>A2NWSAGRHCP8N5</td>\n",
       "      <td>439886341</td>\n",
       "      <td>1</td>\n",
       "    </tr>\n",
       "    <tr>\n",
       "      <th>2</th>\n",
       "      <td>A2WNBOD3WNDNKT</td>\n",
       "      <td>439886341</td>\n",
       "      <td>3</td>\n",
       "    </tr>\n",
       "    <tr>\n",
       "      <th>3</th>\n",
       "      <td>A1GI0U4ZRJA8WN</td>\n",
       "      <td>439886341</td>\n",
       "      <td>1</td>\n",
       "    </tr>\n",
       "    <tr>\n",
       "      <th>4</th>\n",
       "      <td>A1QGNMC6O1VW39</td>\n",
       "      <td>511189877</td>\n",
       "      <td>5</td>\n",
       "    </tr>\n",
       "  </tbody>\n",
       "</table>\n",
       "</div>"
      ],
      "text/plain": [
       "           userId  productId  Rating\n",
       "0  A2CX7LUOHB2NDG  321732944       5\n",
       "1  A2NWSAGRHCP8N5  439886341       1\n",
       "2  A2WNBOD3WNDNKT  439886341       3\n",
       "3  A1GI0U4ZRJA8WN  439886341       1\n",
       "4  A1QGNMC6O1VW39  511189877       5"
      ]
     },
     "execution_count": 61,
     "metadata": {},
     "output_type": "execute_result"
    }
   ],
   "source": [
    "data1.head()"
   ]
  },
  {
   "cell_type": "code",
   "execution_count": 62,
   "id": "5160299a",
   "metadata": {},
   "outputs": [],
   "source": [
    "#Upgrading pip as pakage update for turicreate was giving issues\n",
    "#!pip install --upgrade pip"
   ]
  },
  {
   "cell_type": "code",
   "execution_count": 63,
   "id": "b3a9760a",
   "metadata": {},
   "outputs": [],
   "source": [
    "#pip install -U turicreate"
   ]
  },
  {
   "cell_type": "code",
   "execution_count": 64,
   "id": "e8962d69",
   "metadata": {},
   "outputs": [],
   "source": [
    "import pandas as pd\n",
    "\n",
    "train_data2 = pd.DataFrame(train_data)\n",
    "test_data2 = pd.DataFrame(test_data)"
   ]
  },
  {
   "cell_type": "code",
   "execution_count": 65,
   "id": "b3a7251d",
   "metadata": {},
   "outputs": [],
   "source": [
    "import pandas as pd\n",
    "from sklearn.preprocessing import LabelEncoder\n",
    "\n",
    "# Convert user and item IDs to numerical labels\n",
    "label_encoder = LabelEncoder()\n",
    "train_data2['user_label'] = label_encoder.fit_transform(train_data2['userId'])\n",
    "train_data2['item_label'] = label_encoder.fit_transform(train_data2['productId'].astype(str))\n",
    "\n",
    "# Compute item popularity\n",
    "item_popularity = train_data2['item_label'].value_counts().reset_index()\n",
    "item_popularity.columns = ['item_label', 'popularity']\n",
    "\n",
    "# Sort items by popularity\n",
    "sorted_items = item_popularity.sort_values(by='popularity', ascending=False)\n",
    "\n",
    "# Function to recommend popular items\n",
    "def recommend_popular_items(user_id, top_n=5):\n",
    "    return sorted_items.head(top_n)['item_label'].tolist()\n",
    "\n",
    "# Example usage\n",
    "user_id = 'user1'\n",
    "recommended_items = recommend_popular_items(user_id, top_n=5)"
   ]
  },
  {
   "cell_type": "code",
   "execution_count": 66,
   "id": "6efafed0",
   "metadata": {},
   "outputs": [
    {
     "name": "stdout",
     "output_type": "stream",
     "text": [
      "Recommended items for user user1\n",
      "['B00004SB92' 'B0009RKL5S' 'B00004ZCJE' 'B00004Z5M1' 'B00008OE46']\n"
     ]
    }
   ],
   "source": [
    "# Retrieve the original item IDs\n",
    "recommended_items_ids = label_encoder.inverse_transform(recommended_items)\n",
    "\n",
    "# Print the recommended item IDs\n",
    "print(\"Recommended items for user\", user_id)\n",
    "print(recommended_items_ids) "
   ]
  },
  {
   "cell_type": "code",
   "execution_count": 67,
   "id": "4165fcaf",
   "metadata": {},
   "outputs": [
    {
     "name": "stdout",
     "output_type": "stream",
     "text": [
      "Precision at 5 : 0.6\n"
     ]
    }
   ],
   "source": [
    "def precision_at_k(recommended_items, relevant_items, k):\n",
    "    # Take the top-K recommended items\n",
    "    recommended_items = recommended_items[:k]\n",
    "    # Calculate the number of recommended items that are relevant\n",
    "    num_relevant_items = len(set(recommended_items).intersection(set(relevant_items)))\n",
    "    # Calculate precision@K\n",
    "    precision = num_relevant_items / k\n",
    "    return precision\n",
    "\n",
    "# Example usage\n",
    "k = 5  # Top-K recommendations to consider\n",
    "\n",
    "# Sample recommended items for a user\n",
    "recommended_items = [1, 3, 5, 7, 9]\n",
    "\n",
    "# Sample relevant items from the test set\n",
    "relevant_items = [1, 2, 3, 4, 5]\n",
    "\n",
    "# Calculate Precision at K\n",
    "precision = precision_at_k(recommended_items, relevant_items, k)\n",
    "\n",
    "print(\"Precision at\", k, \":\", precision)"
   ]
  },
  {
   "cell_type": "code",
   "execution_count": 68,
   "id": "ca32d85a",
   "metadata": {},
   "outputs": [
    {
     "name": "stdout",
     "output_type": "stream",
     "text": [
      "Precision at 10 : 0.3\n"
     ]
    }
   ],
   "source": [
    "def precision_at_k(recommended_items, relevant_items, k):\n",
    "    # Take the top-K recommended items\n",
    "    recommended_items = recommended_items[:k]\n",
    "    # Calculate the number of recommended items that are relevant\n",
    "    num_relevant_items = len(set(recommended_items).intersection(set(relevant_items)))\n",
    "    # Calculate precision@K\n",
    "    precision = num_relevant_items / k\n",
    "    return precision\n",
    "\n",
    "# Example usage\n",
    "k = 10  # Increase the value of k for more recommendations\n",
    "\n",
    "# Sample recommended items for a user\n",
    "recommended_items = [1, 3, 5, 7, 9, 11, 13, 15, 17, 19]\n",
    "\n",
    "# Sample relevant items from the test set\n",
    "relevant_items = [1, 2, 3, 4, 5]\n",
    "\n",
    "# Calculate Precision at K\n",
    "precision = precision_at_k(recommended_items, relevant_items, k)\n",
    "\n",
    "print(\"Precision at\", k, \":\", precision)"
   ]
  },
  {
   "cell_type": "code",
   "execution_count": 69,
   "id": "faa63656",
   "metadata": {
    "scrolled": false
   },
   "outputs": [
    {
     "ename": "NameError",
     "evalue": "name 'popularity_model' is not defined",
     "output_type": "error",
     "traceback": [
      "\u001b[1;31m---------------------------------------------------------------------------\u001b[0m",
      "\u001b[1;31mNameError\u001b[0m                                 Traceback (most recent call last)",
      "Input \u001b[1;32mIn [69]\u001b[0m, in \u001b[0;36m<cell line: 5>\u001b[1;34m()\u001b[0m\n\u001b[0;32m      2\u001b[0m \u001b[38;5;28;01mimport\u001b[39;00m \u001b[38;5;21;01mnumpy\u001b[39;00m \u001b[38;5;28;01mas\u001b[39;00m \u001b[38;5;21;01mnp\u001b[39;00m\n\u001b[0;32m      4\u001b[0m \u001b[38;5;66;03m# Example usage\u001b[39;00m\n\u001b[1;32m----> 5\u001b[0m predicted_ratings \u001b[38;5;241m=\u001b[39m \u001b[43mpopularity_model\u001b[49m\u001b[38;5;241m.\u001b[39mpredict(test_data2)  \u001b[38;5;66;03m# Predicted ratings from the popularity model\u001b[39;00m\n\u001b[0;32m      6\u001b[0m actual_ratings \u001b[38;5;241m=\u001b[39m test_data2[\u001b[38;5;124m'\u001b[39m\u001b[38;5;124mRating\u001b[39m\u001b[38;5;124m'\u001b[39m]  \u001b[38;5;66;03m# Actual ratings from the test dataset\u001b[39;00m\n\u001b[0;32m      8\u001b[0m \u001b[38;5;66;03m# Calculate RMSE\u001b[39;00m\n",
      "\u001b[1;31mNameError\u001b[0m: name 'popularity_model' is not defined"
     ]
    }
   ],
   "source": [
    "from sklearn.metrics import mean_squared_error\n",
    "import numpy as np\n",
    "\n",
    "# Example usage\n",
    "predicted_ratings = popularity_model.predict(test_data2)  # Predicted ratings from the popularity model\n",
    "actual_ratings = test_data2['Rating']  # Actual ratings from the test dataset\n",
    "\n",
    "# Calculate RMSE\n",
    "rmse = np.sqrt(mean_squared_error(actual_ratings, predicted_ratings))\n",
    "\n",
    "print(\"RMSE:\", rmse)"
   ]
  },
  {
   "cell_type": "code",
   "execution_count": null,
   "id": "b9fea08a",
   "metadata": {},
   "outputs": [],
   "source": []
  }
 ],
 "metadata": {
  "kernelspec": {
   "display_name": "Python 3 (ipykernel)",
   "language": "python",
   "name": "python3"
  },
  "language_info": {
   "codemirror_mode": {
    "name": "ipython",
    "version": 3
   },
   "file_extension": ".py",
   "mimetype": "text/x-python",
   "name": "python",
   "nbconvert_exporter": "python",
   "pygments_lexer": "ipython3",
   "version": "3.9.12"
  }
 },
 "nbformat": 4,
 "nbformat_minor": 5
}
